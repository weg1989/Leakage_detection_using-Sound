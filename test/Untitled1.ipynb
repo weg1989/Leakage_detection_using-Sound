{
 "cells": [
  {
   "cell_type": "code",
   "execution_count": 20,
   "id": "3d6eb972",
   "metadata": {},
   "outputs": [
    {
     "name": "stdout",
     "output_type": "stream",
     "text": [
      "Collecting speaker-verification-toolkit\n",
      "  Downloading speaker_verification_toolkit-0.0.2-py3-none-any.whl (5.5 kB)\n",
      "Collecting fastdtw==0.3.2\n",
      "  Downloading fastdtw-0.3.2.tar.gz (118 kB)\n",
      "Collecting librosa==0.7.0\n",
      "  Downloading librosa-0.7.0.tar.gz (1.6 MB)\n",
      "Collecting python-speech-features==0.6\n",
      "  Downloading python_speech_features-0.6.tar.gz (5.6 kB)\n",
      "Requirement already satisfied: numpy in c:\\users\\jay\\anaconda3\\lib\\site-packages (from fastdtw==0.3.2->speaker-verification-toolkit) (1.20.3)\n",
      "Requirement already satisfied: audioread>=2.0.0 in c:\\users\\jay\\anaconda3\\lib\\site-packages (from librosa==0.7.0->speaker-verification-toolkit) (2.1.9)\n",
      "Requirement already satisfied: scipy>=1.0.0 in c:\\users\\jay\\anaconda3\\lib\\site-packages (from librosa==0.7.0->speaker-verification-toolkit) (1.7.1)\n",
      "Requirement already satisfied: scikit-learn!=0.19.0,>=0.14.0 in c:\\users\\jay\\anaconda3\\lib\\site-packages (from librosa==0.7.0->speaker-verification-toolkit) (0.24.2)\n",
      "Requirement already satisfied: joblib>=0.12 in c:\\users\\jay\\anaconda3\\lib\\site-packages (from librosa==0.7.0->speaker-verification-toolkit) (1.1.0)\n",
      "Requirement already satisfied: decorator>=3.0.0 in c:\\users\\jay\\anaconda3\\lib\\site-packages (from librosa==0.7.0->speaker-verification-toolkit) (5.1.0)\n",
      "Requirement already satisfied: six>=1.3 in c:\\users\\jay\\anaconda3\\lib\\site-packages (from librosa==0.7.0->speaker-verification-toolkit) (1.16.0)\n",
      "Requirement already satisfied: resampy>=0.2.0 in c:\\users\\jay\\anaconda3\\lib\\site-packages (from librosa==0.7.0->speaker-verification-toolkit) (0.2.2)\n",
      "Requirement already satisfied: numba>=0.38.0 in c:\\users\\jay\\anaconda3\\lib\\site-packages (from librosa==0.7.0->speaker-verification-toolkit) (0.54.1)\n",
      "Requirement already satisfied: soundfile>=0.9.0 in c:\\users\\jay\\anaconda3\\lib\\site-packages (from librosa==0.7.0->speaker-verification-toolkit) (0.10.3.post1)\n",
      "Requirement already satisfied: llvmlite<0.38,>=0.37.0rc1 in c:\\users\\jay\\anaconda3\\lib\\site-packages (from numba>=0.38.0->librosa==0.7.0->speaker-verification-toolkit) (0.37.0)\n",
      "Requirement already satisfied: setuptools in c:\\users\\jay\\anaconda3\\lib\\site-packages (from numba>=0.38.0->librosa==0.7.0->speaker-verification-toolkit) (58.0.4)\n",
      "Requirement already satisfied: threadpoolctl>=2.0.0 in c:\\users\\jay\\anaconda3\\lib\\site-packages (from scikit-learn!=0.19.0,>=0.14.0->librosa==0.7.0->speaker-verification-toolkit) (2.2.0)\n",
      "Requirement already satisfied: cffi>=1.0 in c:\\users\\jay\\anaconda3\\lib\\site-packages (from soundfile>=0.9.0->librosa==0.7.0->speaker-verification-toolkit) (1.14.6)\n",
      "Requirement already satisfied: pycparser in c:\\users\\jay\\anaconda3\\lib\\site-packages (from cffi>=1.0->soundfile>=0.9.0->librosa==0.7.0->speaker-verification-toolkit) (2.20)\n",
      "Building wheels for collected packages: fastdtw, librosa, python-speech-features\n",
      "  Building wheel for fastdtw (setup.py): started\n",
      "  Building wheel for fastdtw (setup.py): finished with status 'done'\n",
      "  Created wheel for fastdtw: filename=fastdtw-0.3.2-py3-none-any.whl size=3569 sha256=9dcc926d074e09cf110d12eaa9b685cc657af78721257f9dc8963cc27b98813f\n",
      "  Stored in directory: c:\\users\\jay\\appdata\\local\\pip\\cache\\wheels\\33\\fe\\46\\db0c32ddd8c3ab40883e9cb4210b42166e8a58f102288901e7\n",
      "  Building wheel for librosa (setup.py): started\n",
      "  Building wheel for librosa (setup.py): finished with status 'done'\n",
      "  Created wheel for librosa: filename=librosa-0.7.0-py3-none-any.whl size=1598360 sha256=052c3ff86cafd6cc7161c485590803eacfe424547adf2fb3b1e1594d4c10ab36\n",
      "  Stored in directory: c:\\users\\jay\\appdata\\local\\pip\\cache\\wheels\\59\\79\\1b\\68bdc54e1a6839f0a1d397f90a24d194c96236226dce43243a\n",
      "  Building wheel for python-speech-features (setup.py): started\n",
      "  Building wheel for python-speech-features (setup.py): finished with status 'done'\n",
      "  Created wheel for python-speech-features: filename=python_speech_features-0.6-py3-none-any.whl size=5888 sha256=1bb46c1dcc60c77f64921764a6ea276d00e5e8bdcee481500cf6220a82e02427\n",
      "  Stored in directory: c:\\users\\jay\\appdata\\local\\pip\\cache\\wheels\\09\\a1\\04\\08e2688d2562d8f9ff89e77c6ddfbf7268e07dae1a6f22455e\n",
      "Successfully built fastdtw librosa python-speech-features\n",
      "Installing collected packages: python-speech-features, librosa, fastdtw, speaker-verification-toolkit\n",
      "  Attempting uninstall: librosa\n",
      "    Found existing installation: librosa 0.9.1\n",
      "    Uninstalling librosa-0.9.1:\n",
      "      Successfully uninstalled librosa-0.9.1\n",
      "Successfully installed fastdtw-0.3.2 librosa-0.7.0 python-speech-features-0.6 speaker-verification-toolkit-0.0.2\n"
     ]
    }
   ],
   "source": [
    "!pip install speaker-verification-toolkit\n",
    "import speaker_verification_toolkit.tools as svt\n",
    "import librosa"
   ]
  },
  {
   "cell_type": "code",
   "execution_count": 21,
   "id": "93aed1f1",
   "metadata": {},
   "outputs": [
    {
     "data": {
      "text/plain": [
       "48000"
      ]
     },
     "execution_count": 21,
     "metadata": {},
     "output_type": "execute_result"
    }
   ],
   "source": [
    "librosa.get_samplerate('Voice_14.wav')"
   ]
  },
  {
   "cell_type": "code",
   "execution_count": 22,
   "id": "ab7e6d30",
   "metadata": {},
   "outputs": [],
   "source": [
    "data,sr = librosa.load('Voice_14.wav',sr=48000,mono='true')\n"
   ]
  },
  {
   "cell_type": "code",
   "execution_count": 23,
   "id": "40fb2c17",
   "metadata": {},
   "outputs": [],
   "source": [
    "data = svt.rms_silence_filter(data)"
   ]
  },
  {
   "cell_type": "code",
   "execution_count": 24,
   "id": "6b7d9419",
   "metadata": {},
   "outputs": [],
   "source": [
    "data = svt.extract_mfcc(data)"
   ]
  },
  {
   "cell_type": "code",
   "execution_count": 25,
   "id": "2d563236",
   "metadata": {},
   "outputs": [
    {
     "name": "stdout",
     "output_type": "stream",
     "text": [
      "MFCC Values :\n",
      " [[ -8.70089078  -7.09704937 -22.49046401 ... -17.36039405   1.02418947\n",
      "   -3.84535105]\n",
      " [ -8.50913618  -7.39279268 -21.19390011 ... -17.99907239  -3.25326995\n",
      "   11.57867766]\n",
      " [ -8.61967972  -5.32129195 -22.99360362 ... -18.49713815  -1.92324409\n",
      "    7.78337048]\n",
      " ...\n",
      " [ -6.7397302    7.73985962 -12.03984057 ... -20.90858273  -3.93640033\n",
      "    7.63774201]\n",
      " [ -7.06085369   0.88798646 -12.92948316 ... -13.40481936  15.45212526\n",
      "    3.82100163]\n",
      " [ -7.27646281   0.06409105 -13.2136051  ... -14.1653793    2.33266528\n",
      "  -15.79506212]]\n"
     ]
    }
   ],
   "source": [
    "print(\"MFCC Values :\\n\",data)"
   ]
  },
  {
   "cell_type": "code",
   "execution_count": 29,
   "id": "ba0916aa",
   "metadata": {},
   "outputs": [
    {
     "ename": "TypeError",
     "evalue": "write() argument must be str, not numpy.ndarray",
     "output_type": "error",
     "traceback": [
      "\u001b[1;31m---------------------------------------------------------------------------\u001b[0m",
      "\u001b[1;31mTypeError\u001b[0m                                 Traceback (most recent call last)",
      "\u001b[1;32m~\\AppData\\Local\\Temp/ipykernel_12064/2447512786.py\u001b[0m in \u001b[0;36m<module>\u001b[1;34m\u001b[0m\n\u001b[0;32m      1\u001b[0m \u001b[0mfile_object\u001b[0m \u001b[1;33m=\u001b[0m \u001b[0mopen\u001b[0m\u001b[1;33m(\u001b[0m\u001b[1;34m'results.txt'\u001b[0m \u001b[1;33m,\u001b[0m \u001b[1;34m'a'\u001b[0m\u001b[1;33m)\u001b[0m\u001b[1;33m\u001b[0m\u001b[1;33m\u001b[0m\u001b[0m\n\u001b[1;32m----> 2\u001b[1;33m \u001b[0mfile_object\u001b[0m\u001b[1;33m.\u001b[0m\u001b[0mwrite\u001b[0m\u001b[1;33m(\u001b[0m\u001b[0mdata\u001b[0m\u001b[1;33m)\u001b[0m\u001b[1;33m\u001b[0m\u001b[1;33m\u001b[0m\u001b[0m\n\u001b[0m\u001b[0;32m      3\u001b[0m \u001b[0mfile_object\u001b[0m\u001b[1;33m.\u001b[0m\u001b[0mclose\u001b[0m\u001b[1;33m\u001b[0m\u001b[1;33m\u001b[0m\u001b[0m\n",
      "\u001b[1;31mTypeError\u001b[0m: write() argument must be str, not numpy.ndarray"
     ]
    }
   ],
   "source": [
    "file_object = open('results.txt' , 'a')\n",
    "file_object.write(data)\n",
    "file_object.close"
   ]
  }
 ],
 "metadata": {
  "kernelspec": {
   "display_name": "Python 3 (ipykernel)",
   "language": "python",
   "name": "python3"
  },
  "language_info": {
   "codemirror_mode": {
    "name": "ipython",
    "version": 3
   },
   "file_extension": ".py",
   "mimetype": "text/x-python",
   "name": "python",
   "nbconvert_exporter": "python",
   "pygments_lexer": "ipython3",
   "version": "3.9.7"
  }
 },
 "nbformat": 4,
 "nbformat_minor": 5
}
